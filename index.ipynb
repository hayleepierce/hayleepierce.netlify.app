{
  "cells": [
    {
      "cell_type": "raw",
      "metadata": {},
      "source": [
        "---\n",
        "title: Welcome!\n",
        "echo: true\n",
        "section-divs: true\n",
        "keep-md: false\n",
        "toc: true\n",
        "page-layout: full\n",
        "title-block-style: default\n",
        "title-block-banner: false\n",
        "execute:\n",
        "  freeze: auto\n",
        "---"
      ],
      "id": "d2d1ffb5"
    },
    {
      "cell_type": "markdown",
      "metadata": {},
      "source": [
        "![](icons/logo.jpg){fig-align=\"center\"}"
      ],
      "id": "a2e6b67d"
    }
  ],
  "metadata": {
    "kernelspec": {
      "display_name": "Python 3",
      "language": "python",
      "name": "python3"
    }
  },
  "nbformat": 4,
  "nbformat_minor": 5
}